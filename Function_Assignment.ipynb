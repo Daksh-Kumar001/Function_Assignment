{
 "cells": [
  {
   "cell_type": "code",
   "execution_count": 1,
   "id": "192368b1-79e6-4bce-a0b7-a8a80c75b8a4",
   "metadata": {},
   "outputs": [],
   "source": [
    "#Practical Question"
   ]
  },
  {
   "cell_type": "raw",
   "id": "ce45707e-2f83-49bc-bc64-9f773601639c",
   "metadata": {},
   "source": [
    "QUESTION-1 Write a Python function that takes a list of numbers as input and returns the sum of all even numbers in the list."
   ]
  },
  {
   "cell_type": "code",
   "execution_count": 6,
   "id": "8b47883f-a00e-4b7f-a193-2ac215ce4253",
   "metadata": {},
   "outputs": [
    {
     "name": "stdout",
     "output_type": "stream",
     "text": [
      "12\n"
     ]
    }
   ],
   "source": [
    "#Answer-1\n",
    "def sum_of_even_numbers(numbers):\n",
    "    return sum(num for num in numbers if num % 2 == 0)\n",
    "\n",
    "print(sum_of_even_numbers([1, 2, 3, 4, 5, 6]))\n"
   ]
  },
  {
   "cell_type": "raw",
   "id": "424e0756-72a2-426f-b25c-0d13e9d23e80",
   "metadata": {},
   "source": [
    "QUESTION-2 Create a Python function that accepts a string and returns the reverse of that string."
   ]
  },
  {
   "cell_type": "code",
   "execution_count": 7,
   "id": "907bf8fb-99d4-47a9-bdd6-e32faacafeab",
   "metadata": {},
   "outputs": [
    {
     "name": "stdout",
     "output_type": "stream",
     "text": [
      "olleh\n"
     ]
    }
   ],
   "source": [
    "#Answer-2\n",
    "def reverse_string(s):\n",
    "    return s[::-1]\n",
    "\n",
    "#Example Usage\n",
    "print(reverse_string(\"hello\"))"
   ]
  },
  {
   "cell_type": "raw",
   "id": "06086b32-d061-4f98-9130-5aae4581a2e9",
   "metadata": {},
   "source": [
    "QUESTION-3 Implement a Python function that takes a list of integers and returns a new list containing the squares of each number."
   ]
  },
  {
   "cell_type": "code",
   "execution_count": 8,
   "id": "df3a0b05-40a3-46cc-add4-f7f66b0a8103",
   "metadata": {},
   "outputs": [
    {
     "name": "stdout",
     "output_type": "stream",
     "text": [
      "[1, 4, 9, 16]\n"
     ]
    }
   ],
   "source": [
    "#Answer-3 \n",
    "def square_numbers(numbers):\n",
    "    return [num ** 2 for num in numbers]\n",
    "\n",
    "#Example Usage \n",
    "print(square_numbers([1, 2, 3, 4]))"
   ]
  },
  {
   "cell_type": "code",
   "execution_count": null,
   "id": "7afc1f68-bd6c-4414-8af2-961f110af05b",
   "metadata": {},
   "outputs": [],
   "source": [
    "QUESTION-4 Write a Python function that checks if a given number is prime or not from 1 to 200."
   ]
  },
  {
   "cell_type": "code",
   "execution_count": 11,
   "id": "90dd4967-c9d4-4e70-83e1-49fe1465a303",
   "metadata": {},
   "outputs": [
    {
     "name": "stdout",
     "output_type": "stream",
     "text": [
      "[5, 7, 9, 11, 13, 15, 17, 19, 21, 23, 25, 27, 29, 31, 33, 35, 37, 39, 41, 43, 45, 47, 49, 51, 53, 55, 57, 59, 61, 63, 65, 67, 69, 71, 73, 75, 77, 79, 81, 83, 85, 87, 89, 91, 93, 95, 97, 99, 101, 103, 105, 107, 109, 111, 113, 115, 117, 119, 121, 123, 125, 127, 129, 131, 133, 135, 137, 139, 141, 143, 145, 147, 149, 151, 153, 155, 157, 159, 161, 163, 165, 167, 169, 171, 173, 175, 177, 179, 181, 183, 185, 187, 189, 191, 193, 195, 197, 199]\n"
     ]
    }
   ],
   "source": [
    "#Answer-4\n",
    "def is_prime(n):\n",
    "    if n <= 1:\n",
    "        return False\n",
    "    for i in range(2, int(n ** 0.5) + 1):\n",
    "        if n % i == 0:\n",
    "            return False\n",
    "        return True\n",
    "\n",
    "# Example usage\n",
    "primes = [n for n in range(1, 201) if is_prime(n)]\n",
    "print(primes) "
   ]
  },
  {
   "cell_type": "code",
   "execution_count": null,
   "id": "22a6a43c-4918-4988-87bf-ef4c7fabc4b8",
   "metadata": {},
   "outputs": [],
   "source": [
    "QUESTION-5 Create an iterator class in Python that generates the Fibonacci sequence up to a specified number of terms."
   ]
  },
  {
   "cell_type": "code",
   "execution_count": 21,
   "id": "96a423de-a88b-4a1a-a469-71199fd05c0b",
   "metadata": {},
   "outputs": [
    {
     "name": "stdout",
     "output_type": "stream",
     "text": [
      "[0, 1, 1, 2, 3, 5, 8, 13, 21, 34]\n"
     ]
    }
   ],
   "source": [
    "#Answer-5\n",
    "class FibonacciIterator:\n",
    "    def __init__(self, n):\n",
    "        self.n = n\n",
    "        self.a, self.b = 0, 1\n",
    "        self.count = 0\n",
    "\n",
    "    def __iter__(self):\n",
    "        # Resetting the sequence to allow re-iteration\n",
    "        self.a, self.b = 0, 1\n",
    "        self.count = 0\n",
    "        return self\n",
    "\n",
    "    def __next__(self):\n",
    "        if self.count >= self.n:\n",
    "            raise StopIteration\n",
    "        fib = self.a\n",
    "        self.a, self.b = self.b, self.a + self.b\n",
    "        self.count += 1\n",
    "        return fib\n",
    "\n",
    "# Example usage\n",
    "fib_iter = FibonacciIterator(10)\n",
    "print(list(fib_iter))  # Output: First 10 terms of the Fibonacci sequence"
   ]
  },
  {
   "cell_type": "raw",
   "id": "6730acab-11b9-42e9-b460-09f8be4d3e17",
   "metadata": {},
   "source": [
    "QUESTION-6 Write a generator function in Python that yields the powers of 2 up to a given exponent."
   ]
  },
  {
   "cell_type": "code",
   "execution_count": 3,
   "id": "f5bc232f-a49c-4178-be2f-c2bc7d8b0961",
   "metadata": {},
   "outputs": [
    {
     "name": "stdout",
     "output_type": "stream",
     "text": [
      "1\n",
      "2\n",
      "4\n",
      "8\n",
      "16\n",
      "32\n"
     ]
    }
   ],
   "source": [
    "#Answer-6\n",
    "def powers_of_two(max_expo):\n",
    "    for i in range(max_expo + 1):\n",
    "        yield 2 ** i\n",
    "\n",
    "# Example Usage\n",
    "for power in powers_of_two(5):\n",
    "    print(power)"
   ]
  },
  {
   "cell_type": "raw",
   "id": "fd6072f0-bef3-4ecb-89b2-74ed445723a4",
   "metadata": {},
   "source": [
    "QUESTION-7 Implement a generator function that reads a file line by line and yields each line as a string."
   ]
  },
  {
   "cell_type": "code",
   "execution_count": 6,
   "id": "7e263cb1-48ed-42d9-b786-212af66c0f1b",
   "metadata": {},
   "outputs": [],
   "source": [
    "#Answer-7\n",
    "def read_file_line_by_line(file_path):\n",
    "    with open(file_path, 'r') as file:\n",
    "        for line in file:\n",
    "            yield line.strip()\n",
    "\n",
    "#Example Usage\n",
    "# for ;ine in read_file_line_by_line(\"example.txt\"):\n",
    "#     print(line)"
   ]
  },
  {
   "cell_type": "raw",
   "id": "cad692bc-a407-4a80-9526-a62b94db6038",
   "metadata": {},
   "source": [
    "QUESTION-8. Use a lambda function in Python to sort a list of tuples based on the second element of each tuple."
   ]
  },
  {
   "cell_type": "code",
   "execution_count": 7,
   "id": "a0b5e7fe-3380-4818-829c-2f260cfaedf6",
   "metadata": {},
   "outputs": [
    {
     "name": "stdout",
     "output_type": "stream",
     "text": [
      "[(4, 1), (5, 2), (1, 3)]\n"
     ]
    }
   ],
   "source": [
    "#Answer-8\n",
    "data = [(1,3), (4,1), (5,2)]\n",
    "sorted_data = sorted(data, key=lambda x: x[1])\n",
    "print(sorted_data)"
   ]
  },
  {
   "cell_type": "code",
   "execution_count": null,
   "id": "9ca04e60-94d5-4fff-9cb8-a602041b8dd0",
   "metadata": {},
   "outputs": [],
   "source": [
    "QUESTION-9 Write a Python program that uses map() to convert a list of temperatures from Celsius to Fahrenheit."
   ]
  },
  {
   "cell_type": "code",
   "execution_count": 9,
   "id": "211e27e0-d3ec-4d6f-9402-4f128b6970be",
   "metadata": {},
   "outputs": [
    {
     "name": "stdout",
     "output_type": "stream",
     "text": [
      "[32.0, 68.0, 86.0, 104.0]\n"
     ]
    }
   ],
   "source": [
    "#Answer-9\n",
    "celsius_temp = [0, 20, 30, 40]\n",
    "fahrenheit_temp = list(map(lambda c: (c * 9/5) + 32, celsius_temp))\n",
    "print(fahrenheit_temp)"
   ]
  },
  {
   "cell_type": "raw",
   "id": "e6919af7-6163-4106-9c3a-fe11fb7504e7",
   "metadata": {},
   "source": [
    "QUESTION-10 Create a Python program that uses filter() to remove all the vowels from a given string."
   ]
  },
  {
   "cell_type": "code",
   "execution_count": 10,
   "id": "862c0cbd-74ee-4913-984f-e073f89ac72c",
   "metadata": {},
   "outputs": [
    {
     "name": "stdout",
     "output_type": "stream",
     "text": [
      "hll wrld\n"
     ]
    }
   ],
   "source": [
    "#Answer-10\n",
    "def remove_vowels(s):\n",
    "    vowels = \"aeiouAEIOU\"\n",
    "    return ''.join(filter(lambda x: x not in vowels, s))\n",
    "\n",
    "# Example usage\n",
    "print(remove_vowels(\"hello world\")) "
   ]
  },
  {
   "cell_type": "raw",
   "id": "9d712a29-dac0-4472-9b21-2ce75d220bb3",
   "metadata": {},
   "source": [
    "QUESTION-11 Book Shop Accounting Routine: Program that returns a list with 2-tuples, each tuple consists of the order number and the total price (product of price per item and quantity) with an additional €10 if the order value is under €100."
   ]
  },
  {
   "cell_type": "code",
   "execution_count": 11,
   "id": "760ded15-3be6-479b-ace8-935afab1e080",
   "metadata": {},
   "outputs": [
    {
     "name": "stdout",
     "output_type": "stream",
     "text": [
      "[(1, 60), (2, 90), (3, 85)]\n"
     ]
    }
   ],
   "source": [
    "#Answer-11\n",
    "# Order list\n",
    "orders = [\n",
    "    [1, 25, 2],  # Order 1, price per item = 25, quantity = 2\n",
    "    [2, 20, 4],  # Order 2, price per item = 20, quantity = 4\n",
    "    [3, 15, 5]   # Order 3, price per item = 15, quantity = 5\n",
    "]\n",
    "\n",
    "# Processing with lambda and map\n",
    "processed_orders = list(map(\n",
    "    lambda order: (order[0], order[1] * order[2] + (10 if order[1] * order[2] < 100 else 0)),\n",
    "    orders\n",
    "))\n",
    "\n",
    "print(processed_orders) "
   ]
  }
 ],
 "metadata": {
  "kernelspec": {
   "display_name": "Python 3 (ipykernel)",
   "language": "python",
   "name": "python3"
  },
  "language_info": {
   "codemirror_mode": {
    "name": "ipython",
    "version": 3
   },
   "file_extension": ".py",
   "mimetype": "text/x-python",
   "name": "python",
   "nbconvert_exporter": "python",
   "pygments_lexer": "ipython3",
   "version": "3.12.7"
  }
 },
 "nbformat": 4,
 "nbformat_minor": 5
}
